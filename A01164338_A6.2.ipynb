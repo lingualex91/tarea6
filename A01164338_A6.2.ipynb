{
  "nbformat": 4,
  "nbformat_minor": 0,
  "metadata": {
    "colab": {
      "provenance": []
    },
    "kernelspec": {
      "name": "python3",
      "display_name": "Python 3"
    },
    "language_info": {
      "name": "python"
    }
  },
  "cells": [
    {
      "cell_type": "code",
      "source": [
        "!pip install coverage"
      ],
      "metadata": {
        "colab": {
          "base_uri": "https://localhost:8080/",
          "height": 0
        },
        "id": "a0NEWw7JKyKf",
        "outputId": "b33e13aa-215c-4e15-86f7-92ba97c1bdb7"
      },
      "execution_count": 10,
      "outputs": [
        {
          "output_type": "stream",
          "name": "stdout",
          "text": [
            "Collecting coverage\n",
            "  Downloading coverage-7.4.1-cp310-cp310-manylinux_2_5_x86_64.manylinux1_x86_64.manylinux_2_17_x86_64.manylinux2014_x86_64.whl (233 kB)\n",
            "\u001b[2K     \u001b[90m━━━━━━━━━━━━━━━━━━━━━━━━━━━━━━━━━━━━━━━━\u001b[0m \u001b[32m234.0/234.0 kB\u001b[0m \u001b[31m2.3 MB/s\u001b[0m eta \u001b[36m0:00:00\u001b[0m\n",
            "\u001b[?25hInstalling collected packages: coverage\n",
            "Successfully installed coverage-7.4.1\n"
          ]
        }
      ]
    },
    {
      "cell_type": "code",
      "source": [
        "!pip install pylint"
      ],
      "metadata": {
        "colab": {
          "base_uri": "https://localhost:8080/",
          "height": 0
        },
        "id": "Ok-lF6iON0Nu",
        "outputId": "05baf257-2240-4568-8d98-f767a09e1118"
      },
      "execution_count": 31,
      "outputs": [
        {
          "output_type": "stream",
          "name": "stdout",
          "text": [
            "Collecting pylint\n",
            "  Downloading pylint-3.0.3-py3-none-any.whl (510 kB)\n",
            "\u001b[2K     \u001b[90m━━━━━━━━━━━━━━━━━━━━━━━━━━━━━━━━━━━━━━━━\u001b[0m \u001b[32m510.6/510.6 kB\u001b[0m \u001b[31m3.5 MB/s\u001b[0m eta \u001b[36m0:00:00\u001b[0m\n",
            "\u001b[?25hRequirement already satisfied: platformdirs>=2.2.0 in /usr/local/lib/python3.10/dist-packages (from pylint) (4.2.0)\n",
            "Collecting astroid<=3.1.0-dev0,>=3.0.1 (from pylint)\n",
            "  Downloading astroid-3.0.3-py3-none-any.whl (275 kB)\n",
            "\u001b[2K     \u001b[90m━━━━━━━━━━━━━━━━━━━━━━━━━━━━━━━━━━━━━━━━\u001b[0m \u001b[32m275.2/275.2 kB\u001b[0m \u001b[31m21.2 MB/s\u001b[0m eta \u001b[36m0:00:00\u001b[0m\n",
            "\u001b[?25hCollecting isort!=5.13.0,<6,>=4.2.5 (from pylint)\n",
            "  Downloading isort-5.13.2-py3-none-any.whl (92 kB)\n",
            "\u001b[2K     \u001b[90m━━━━━━━━━━━━━━━━━━━━━━━━━━━━━━━━━━━━━━━━\u001b[0m \u001b[32m92.3/92.3 kB\u001b[0m \u001b[31m12.5 MB/s\u001b[0m eta \u001b[36m0:00:00\u001b[0m\n",
            "\u001b[?25hCollecting mccabe<0.8,>=0.6 (from pylint)\n",
            "  Downloading mccabe-0.7.0-py2.py3-none-any.whl (7.3 kB)\n",
            "Collecting tomlkit>=0.10.1 (from pylint)\n",
            "  Downloading tomlkit-0.12.3-py3-none-any.whl (37 kB)\n",
            "Collecting dill>=0.2 (from pylint)\n",
            "  Downloading dill-0.3.8-py3-none-any.whl (116 kB)\n",
            "\u001b[2K     \u001b[90m━━━━━━━━━━━━━━━━━━━━━━━━━━━━━━━━━━━━━━━━\u001b[0m \u001b[32m116.3/116.3 kB\u001b[0m \u001b[31m12.5 MB/s\u001b[0m eta \u001b[36m0:00:00\u001b[0m\n",
            "\u001b[?25hRequirement already satisfied: tomli>=1.1.0 in /usr/local/lib/python3.10/dist-packages (from pylint) (2.0.1)\n",
            "Requirement already satisfied: typing-extensions>=4.0.0 in /usr/local/lib/python3.10/dist-packages (from astroid<=3.1.0-dev0,>=3.0.1->pylint) (4.9.0)\n",
            "Installing collected packages: tomlkit, mccabe, isort, dill, astroid, pylint\n",
            "Successfully installed astroid-3.0.3 dill-0.3.8 isort-5.13.2 mccabe-0.7.0 pylint-3.0.3 tomlkit-0.12.3\n"
          ]
        }
      ]
    },
    {
      "cell_type": "code",
      "source": [
        "!python -m pip install pyflakes"
      ],
      "metadata": {
        "colab": {
          "base_uri": "https://localhost:8080/",
          "height": 0
        },
        "id": "Vt3an-H8N4T_",
        "outputId": "a1001186-7865-4946-f31d-a1d432315e32"
      },
      "execution_count": 32,
      "outputs": [
        {
          "output_type": "stream",
          "name": "stdout",
          "text": [
            "Collecting pyflakes\n",
            "  Downloading pyflakes-3.2.0-py2.py3-none-any.whl (62 kB)\n",
            "\u001b[2K     \u001b[90m━━━━━━━━━━━━━━━━━━━━━━━━━━━━━━━━━━━━━━━━\u001b[0m \u001b[32m62.7/62.7 kB\u001b[0m \u001b[31m1.1 MB/s\u001b[0m eta \u001b[36m0:00:00\u001b[0m\n",
            "\u001b[?25hInstalling collected packages: pyflakes\n",
            "Successfully installed pyflakes-3.2.0\n"
          ]
        }
      ]
    },
    {
      "cell_type": "code",
      "source": [
        "!coverage run -m unittest discover"
      ],
      "metadata": {
        "colab": {
          "base_uri": "https://localhost:8080/"
        },
        "id": "t_Nd7oQJK3TW",
        "outputId": "06b2abd1-8f3b-4a75-e22f-00f4fb5a482f"
      },
      "execution_count": 167,
      "outputs": [
        {
          "output_type": "stream",
          "name": "stdout",
          "text": [
            "Customer John Doe created successfully.\n",
            ".Customer Jane Doe created successfully.\n",
            "Customer C002 deleted successfully.\n",
            "..Room 102 in Hotel 006 reserved successfully from 2024-02-01 to 2024-02-07.\n",
            "......Hotel 004 updated successfully.\n",
            ".Hotel not found.\n",
            ".Room 101 in Hotel 005 reserved successfully from 2024-01-01 to 2024-01-07.\n",
            "...\n",
            "----------------------------------------------------------------------\n",
            "Ran 14 tests in 0.013s\n",
            "\n",
            "OK\n"
          ]
        }
      ]
    },
    {
      "cell_type": "code",
      "source": [
        "!coverage report"
      ],
      "metadata": {
        "colab": {
          "base_uri": "https://localhost:8080/"
        },
        "id": "ShmgJ8hAK7mS",
        "outputId": "a717ffad-b9ab-48be-eb43-74e55a513b51"
      },
      "execution_count": 168,
      "outputs": [
        {
          "output_type": "stream",
          "name": "stdout",
          "text": [
            "Name                  Stmts   Miss  Cover\n",
            "-----------------------------------------\n",
            "customer.py              53     20    62%\n",
            "hotel.py                 63      8    87%\n",
            "reservation.py           30      2    93%\n",
            "test_customer.py         31      1    97%\n",
            "test_hotel.py            91      2    98%\n",
            "test_reservation.py      27      1    96%\n",
            "-----------------------------------------\n",
            "TOTAL                   295     34    88%\n"
          ]
        }
      ]
    },
    {
      "cell_type": "code",
      "source": [
        "!python3 test_hotel.py"
      ],
      "metadata": {
        "colab": {
          "base_uri": "https://localhost:8080/"
        },
        "id": "3eaQkERQFPLG",
        "outputId": "98e810ac-c88c-4b26-d4be-ce88a60a761e"
      },
      "execution_count": 165,
      "outputs": [
        {
          "output_type": "stream",
          "name": "stdout",
          "text": [
            "Room 102 in Hotel 006 reserved successfully from 2024-02-01 to 2024-02-07.\n",
            "......Hotel 004 updated successfully.\n",
            ".Hotel not found.\n",
            ".Room 101 in Hotel 005 reserved successfully from 2024-01-01 to 2024-01-07.\n",
            ".\n",
            "----------------------------------------------------------------------\n",
            "Ran 9 tests in 0.012s\n",
            "\n",
            "OK\n"
          ]
        }
      ]
    },
    {
      "cell_type": "code",
      "source": [
        "!python3 test_customer.py"
      ],
      "metadata": {
        "colab": {
          "base_uri": "https://localhost:8080/",
          "height": 0
        },
        "id": "XwfvQ0r4IVfv",
        "outputId": "de237d0e-cf64-41e5-c734-b5f7c305280d"
      },
      "execution_count": 115,
      "outputs": [
        {
          "output_type": "stream",
          "name": "stdout",
          "text": [
            "Customer John Doe created successfully.\n",
            ".Customer Jane Doe created successfully.\n",
            "Customer C002 deleted successfully.\n",
            ".\n",
            "----------------------------------------------------------------------\n",
            "Ran 2 tests in 0.002s\n",
            "\n",
            "OK\n"
          ]
        }
      ]
    },
    {
      "cell_type": "code",
      "source": [
        "!python3 test_reservation.py"
      ],
      "metadata": {
        "colab": {
          "base_uri": "https://localhost:8080/",
          "height": 0
        },
        "id": "JsfX6L0BJxOf",
        "outputId": "fcf9b80f-1fdb-40fb-ff6b-86fd4c972584"
      },
      "execution_count": 111,
      "outputs": [
        {
          "output_type": "stream",
          "name": "stdout",
          "text": [
            "..\n",
            "----------------------------------------------------------------------\n",
            "Ran 2 tests in 0.002s\n",
            "\n",
            "OK\n"
          ]
        }
      ]
    },
    {
      "cell_type": "code",
      "source": [
        "!pylint hotel.py"
      ],
      "metadata": {
        "colab": {
          "base_uri": "https://localhost:8080/",
          "height": 0
        },
        "id": "cJHkB-OGORue",
        "outputId": "1f441ab3-ab82-42ac-c564-a60d3532955a"
      },
      "execution_count": 88,
      "outputs": [
        {
          "output_type": "stream",
          "name": "stdout",
          "text": [
            "\n",
            "--------------------------------------------------------------------\n",
            "Your code has been rated at 10.00/10 (previous run: 10.00/10, +0.00)\n",
            "\n"
          ]
        }
      ]
    },
    {
      "cell_type": "code",
      "source": [
        "!pylint test_hotel.py"
      ],
      "metadata": {
        "colab": {
          "base_uri": "https://localhost:8080/"
        },
        "id": "HeXWEZy-ZdFf",
        "outputId": "8948b705-6cf6-44db-f6d6-636fa53d32f1"
      },
      "execution_count": 155,
      "outputs": [
        {
          "output_type": "stream",
          "name": "stdout",
          "text": [
            "************* Module test_hotel\n",
            "test_hotel.py:171:4: C0116: Missing function or method docstring (missing-function-docstring)\n",
            "\n",
            "------------------------------------------------------------------\n",
            "Your code has been rated at 9.87/10 (previous run: 9.36/10, +0.51)\n",
            "\n"
          ]
        }
      ]
    },
    {
      "cell_type": "code",
      "source": [
        "!pyflakes test_hotel.py"
      ],
      "metadata": {
        "id": "sJKPWc_TdJeX"
      },
      "execution_count": 95,
      "outputs": []
    },
    {
      "cell_type": "code",
      "source": [
        "!pylint customer.py"
      ],
      "metadata": {
        "colab": {
          "base_uri": "https://localhost:8080/",
          "height": 0
        },
        "id": "QGk6_DFHdTHG",
        "outputId": "257f653c-3d84-4971-a4a8-be9cdf0f7a55"
      },
      "execution_count": 99,
      "outputs": [
        {
          "output_type": "stream",
          "name": "stdout",
          "text": [
            "\n",
            "-------------------------------------------------------------------\n",
            "Your code has been rated at 10.00/10 (previous run: 9.79/10, +0.21)\n",
            "\n"
          ]
        }
      ]
    },
    {
      "cell_type": "code",
      "source": [
        "!pyflakes customer.py"
      ],
      "metadata": {
        "id": "jp71M1dueui-"
      },
      "execution_count": 102,
      "outputs": []
    },
    {
      "cell_type": "code",
      "source": [
        "!pylint test_customer.py"
      ],
      "metadata": {
        "colab": {
          "base_uri": "https://localhost:8080/",
          "height": 0
        },
        "id": "_dg6lr_ze0am",
        "outputId": "f2789cab-9e55-4794-a62c-adebe72611ce"
      },
      "execution_count": 118,
      "outputs": [
        {
          "output_type": "stream",
          "name": "stdout",
          "text": [
            "\n",
            "-------------------------------------------------------------------\n",
            "Your code has been rated at 10.00/10 (previous run: 9.14/10, +0.86)\n",
            "\n"
          ]
        }
      ]
    },
    {
      "cell_type": "code",
      "source": [
        "!pyflakes test_customer.py"
      ],
      "metadata": {
        "id": "GYHxPzBBhjJv"
      },
      "execution_count": 121,
      "outputs": []
    },
    {
      "cell_type": "code",
      "source": [
        "!pylint reservation.py"
      ],
      "metadata": {
        "colab": {
          "base_uri": "https://localhost:8080/",
          "height": 0
        },
        "id": "rjqgCdMGhoxq",
        "outputId": "01692033-fd7b-4482-9282-9e420bcad283"
      },
      "execution_count": 128,
      "outputs": [
        {
          "output_type": "stream",
          "name": "stdout",
          "text": [
            "\n",
            "-------------------------------------------------------------------\n",
            "Your code has been rated at 10.00/10 (previous run: 9.63/10, +0.37)\n",
            "\n"
          ]
        }
      ]
    },
    {
      "cell_type": "code",
      "source": [
        "!pyflakes reservation.py"
      ],
      "metadata": {
        "id": "cneALn0XXgX-"
      },
      "execution_count": 129,
      "outputs": []
    },
    {
      "cell_type": "code",
      "source": [
        "!pylint test_reservation.py"
      ],
      "metadata": {
        "colab": {
          "base_uri": "https://localhost:8080/",
          "height": 0
        },
        "id": "ibVMg9Sui1bo",
        "outputId": "050be868-b17d-4ba8-ce16-ee69562b2e39"
      },
      "execution_count": 150,
      "outputs": [
        {
          "output_type": "stream",
          "name": "stdout",
          "text": [
            "************* Module test_reservation\n",
            "test_reservation.py:69:0: C0301: Line too long (102/100) (line-too-long)\n",
            "test_reservation.py:82:0: C0301: Line too long (121/100) (line-too-long)\n",
            "test_reservation.py:86:0: C0301: Line too long (116/100) (line-too-long)\n",
            "\n",
            "------------------------------------------------------------------\n",
            "Your code has been rated at 8.89/10 (previous run: 8.52/10, +0.37)\n",
            "\n"
          ]
        }
      ]
    },
    {
      "cell_type": "code",
      "source": [
        "!pyflakes test_reservation.py"
      ],
      "metadata": {
        "id": "e6Rmn7BqmpE-"
      },
      "execution_count": 151,
      "outputs": []
    }
  ]
}